{
 "cells": [
  {
   "cell_type": "code",
   "execution_count": 1,
   "id": "81456de5-824c-44b7-86dd-fc6f6a462aeb",
   "metadata": {},
   "outputs": [
    {
     "name": "stdout",
     "output_type": "stream",
     "text": [
      "Hello World!\n"
     ]
    }
   ],
   "source": [
    "print(\"Hello World!\")"
   ]
  },
  {
   "cell_type": "code",
   "execution_count": 2,
   "id": "4a1ec450-9c55-41fa-a0d5-e2ea0d36b529",
   "metadata": {},
   "outputs": [
    {
     "name": "stdout",
     "output_type": "stream",
     "text": [
      "Python version: 3.12.4 | packaged by Anaconda, Inc. | (main, Jun 18 2024, 15:03:56) [MSC v.1929 64 bit (AMD64)]\n"
     ]
    }
   ],
   "source": [
    "import sys\n",
    "\n",
    "print(\"Python version:\",sys.version)"
   ]
  },
  {
   "cell_type": "markdown",
   "id": "62c12652-75cd-46ec-9a08-ee06684f0575",
   "metadata": {},
   "source": [
    "## Python Indentation"
   ]
  },
  {
   "cell_type": "markdown",
   "id": "2cdb44c6-0f33-4d00-8b82-29d8ebee72a6",
   "metadata": {
    "jp-MarkdownHeadingCollapsed": true
   },
   "source": [
    "- Python refers to the spaces at the begining of a code line\n",
    "- Python uses indentation to indicate a block of code\n",
    "\n",
    "  #### Key points about Python indentation:\n",
    "  \n",
    " ##### Whitespace Matters:\n",
    "- Unlike many other programming languages that use curly braces or keywords to define blocks of code, Python uses indentation. This means spaces or tabs at the beginning of a line determine the level of nesting within a block.\n",
    "  \n",
    " ##### Consistent Indentation:\n",
    "- You must be consistent with your indentation throughout your code. Mixing tabs and spaces is not recommended and can lead to errors.\n",
    "\n",
    " ##### Four Spaces:\n",
    " - The standard convention is to use four spaces for each level of indentation. However, as long as you are consistent, you can use a different number of spaces or tabs.\n",
    "\n",
    " ##### Indentation Errors:\n",
    " - If you don't indent your code properly, you will get an IndentationError. This is a common mistake for beginners. \r\n"
   ]
  },
  {
   "cell_type": "code",
   "execution_count": 27,
   "id": "ef42ab6c-e1ad-4843-ab31-5c2946ebc222",
   "metadata": {},
   "outputs": [],
   "source": [
    "if 2 > 5:\n",
    "    print(\"2 is greater than 5\") \n",
    "# Correct indentation"
   ]
  },
  {
   "cell_type": "code",
   "execution_count": 24,
   "id": "19455101-8633-44ce-84e3-0cb72daa4847",
   "metadata": {},
   "outputs": [
    {
     "ename": "IndentationError",
     "evalue": "expected an indented block after 'if' statement on line 1 (2173799428.py, line 2)",
     "output_type": "error",
     "traceback": [
      "\u001b[1;36m  Cell \u001b[1;32mIn[24], line 2\u001b[1;36m\u001b[0m\n\u001b[1;33m    print(\"2 is greater than 5\")\u001b[0m\n\u001b[1;37m    ^\u001b[0m\n\u001b[1;31mIndentationError\u001b[0m\u001b[1;31m:\u001b[0m expected an indented block after 'if' statement on line 1\n"
     ]
    }
   ],
   "source": [
    "if 2 > 5:\n",
    "print(\"2 is greater than 5\")\n",
    "    y = x + 2\n",
    "print(y)\n",
    "# Incorrect indentation"
   ]
  },
  {
   "cell_type": "markdown",
   "id": "e7c8f7a1-ca30-4f21-bfad-c80d1f6ac8dd",
   "metadata": {},
   "source": [
    "## Python Comments"
   ]
  },
  {
   "cell_type": "markdown",
   "id": "e5ef37bf-15cd-452e-8d44-1312d08946f3",
   "metadata": {},
   "source": [
    "- Comments can be used to explain Python code\n",
    "- Comments can be used to make the code more readable\n",
    "- Comments start with #, and python will ignore them\n",
    "- In Python, comments are lines of code that the interpreter ignores during execution. They are used to explain the code, making it more readable and understandable for humans.\n",
    "##### Types of Comments\n",
    "\n",
    "- Single-line comments: These start with a # symbol and continue until the end of the line."
   ]
  },
  {
   "cell_type": "code",
   "execution_count": 15,
   "id": "1b0dde3d-1ef0-41db-af73-e5e91fc9447f",
   "metadata": {},
   "outputs": [],
   "source": [
    "    # This is a single-line comment\n",
    "    x = 10  # This is also a single-line comment"
   ]
  },
  {
   "cell_type": "markdown",
   "id": "d73c268b-d304-4eea-a2f3-356a570a1904",
   "metadata": {},
   "source": [
    "- Multi-line comments: Python doesn't have a specific syntax for multi-line comments. However, there are two common ways to achieve this:\n",
    "         Using multiple single-line comments:"
   ]
  },
  {
   "cell_type": "code",
   "execution_count": 16,
   "id": "7df41a66-7ccf-4af9-8182-d6c107703386",
   "metadata": {},
   "outputs": [],
   "source": [
    "        # This is a multi-line comment\n",
    "        # It spans multiple lines\n",
    "        # and explains the code below."
   ]
  },
  {
   "cell_type": "markdown",
   "id": "5704bd12-0742-493f-84cc-a40544c30ef0",
   "metadata": {},
   "source": [
    "- Using triple-quoted strings: While not technically comments, triple-quoted strings (both single and double) can be used for multi-line comments if they are not assigned to a variable."
   ]
  },
  {
   "cell_type": "code",
   "execution_count": 22,
   "id": "c6f2fe8b-d170-4a41-b12b-e5c39312e69f",
   "metadata": {},
   "outputs": [
    {
     "data": {
      "text/plain": [
       "'\\nThis is another way to write\\nmulti-line comments in Python.\\n'"
      ]
     },
     "execution_count": 22,
     "metadata": {},
     "output_type": "execute_result"
    }
   ],
   "source": [
    "        \"\"\"\n",
    "        This is another way to write\n",
    "        multi-line comments in Python.\n",
    "        \"\"\""
   ]
  },
  {
   "cell_type": "markdown",
   "id": "d64bc9ee-a16c-41e1-a21b-1148f56aa262",
   "metadata": {},
   "source": [
    "## Python Keywords"
   ]
  },
  {
   "cell_type": "markdown",
   "id": "86420270-058a-4c99-9a66-7ffc1de4c85c",
   "metadata": {},
   "source": [
    "- Python keywors are Reserverd words\n",
    "- You cannot use them as constant or variable or any other identifier names\n",
    "- All the python keywords contain Lowercase latters\n",
    "- Python keywords are reserved words that have special meanings in the language.\n",
    "- They cannot be used as variable names, function names, or any other identifiers.\n",
    "  Here's a breakdown of Python keywords and their categories:"
   ]
  },
  {
   "cell_type": "markdown",
   "id": "76eddcef-41b6-4e6f-9e9b-64d5ee2141c9",
   "metadata": {},
   "source": [
    "#### Control Flow Keywords:\n",
    "\n",
    "- if, elif, else: Used for conditional execution of code.\n",
    "- for, while: Used for looping through code blocks.\n",
    "- break: Exits a loop prematurely.\n",
    "- continue: Skips to the next iteration of a loop.\n",
    "- pass: Placeholder that does nothing."
   ]
  },
  {
   "cell_type": "markdown",
   "id": "ae30a777-d53a-49ff-8727-a0e2d0c103aa",
   "metadata": {},
   "source": [
    "#### Data Type Keywords:\n",
    "\n",
    "- True, False: Boolean values representing true and false.\n",
    "- None: Represents the absence of a value.\n",
    "- Logical Operator Keywords: and: Logical AND operator, or: Logical OR operator, and not: Logical NOT operator."
   ]
  },
  {
   "cell_type": "markdown",
   "id": "84843d6f-e5af-48ce-8793-1d4791176def",
   "metadata": {},
   "source": [
    "#### Membership Operator Keywords:\n",
    "\n",
    "- in: Checks if a value is present in a sequence.\n",
    "- not in: Checks if a value is not present in a sequence."
   ]
  },
  {
   "cell_type": "markdown",
   "id": "072ba5c7-ac4f-421a-a9f2-f9eab485175e",
   "metadata": {},
   "source": [
    "#### Identity Operator Keywords:\n",
    "\n",
    "- is: Checks if two variables refer to the same object.\n",
    "- is not: Checks if two variables refer to different objects."
   ]
  },
  {
   "cell_type": "markdown",
   "id": "12386efa-6ae0-4642-a80d-0fa1fbac5ebe",
   "metadata": {},
   "source": [
    "#### Function and Class Keywords:\n",
    "\n",
    "- def: Defines a function.\n",
    "- class: Defines a class.\n",
    "- return: Returns a value from a function.\n",
    "- yield: Used in generator functions to return values one at a time.\n",
    "- \n",
    "lambda: Creates anonymous functions."
   ]
  },
  {
   "cell_type": "markdown",
   "id": "7004c56f-127b-4c3c-974a-99d6f3529d4d",
   "metadata": {},
   "source": [
    "#### Exception Handling Keywords:\n",
    "\n",
    "- try: Block of code to attempt, which may raise an exception.\n",
    "- except: Handles specific exceptions.\n",
    "- finally: Block of code that always runs, whether an exception occurred or not.\n",
    "- raise: Raises an exception manually.\n",
    "- Module and Import Keywords: import: Imports a module, from: Imports specific objects from a module, and as: Aliases an imported module or object.ly."
   ]
  },
  {
   "cell_type": "markdown",
   "id": "f344951c-17ce-433a-9bcc-12c28fbeef70",
   "metadata": {},
   "source": [
    "#### Other Keywords:\n",
    "\n",
    "- del: Deletes a variable or object.\r",
    "- \n",
    "global: Declares a variable as global.- nonlocal: Declares a variable as nonlocal.\n",
    "- assert: Used for debugging to check if a condition is true.\n",
    "- with: Used for context management.\n",
    "- async, await: Used for asynchronous programming.ming."
   ]
  },
  {
   "cell_type": "markdown",
   "id": "45851865-565b-4cd6-8814-3b32863a3723",
   "metadata": {},
   "source": [
    "#### Checking for Keywords:\n",
    "\n",
    "- You can use the keyword module to check if a string is a keyword:"
   ]
  },
  {
   "cell_type": "code",
   "execution_count": 21,
   "id": "d2e93707-ccc1-4931-ae63-b046bb083db1",
   "metadata": {},
   "outputs": [
    {
     "name": "stdout",
     "output_type": "stream",
     "text": [
      "['False', 'None', 'True', 'and', 'as', 'assert', 'async', 'await', 'break', 'class', 'continue', 'def', 'del', 'elif', 'else', 'except', 'finally', 'for', 'from', 'global', 'if', 'import', 'in', 'is', 'lambda', 'nonlocal', 'not', 'or', 'pass', 'raise', 'return', 'try', 'while', 'with', 'yield']\n"
     ]
    },
    {
     "data": {
      "text/plain": [
       "35"
      ]
     },
     "execution_count": 21,
     "metadata": {},
     "output_type": "execute_result"
    }
   ],
   "source": [
    "import keyword\n",
    "python_keywords = keyword.kwlist\n",
    "print(python_keywords)\n",
    "len(python_keywords)"
   ]
  }
 ],
 "metadata": {
  "kernelspec": {
   "display_name": "Python 3 (ipykernel)",
   "language": "python",
   "name": "python3"
  },
  "language_info": {
   "codemirror_mode": {
    "name": "ipython",
    "version": 3
   },
   "file_extension": ".py",
   "mimetype": "text/x-python",
   "name": "python",
   "nbconvert_exporter": "python",
   "pygments_lexer": "ipython3",
   "version": "3.12.4"
  }
 },
 "nbformat": 4,
 "nbformat_minor": 5
}
