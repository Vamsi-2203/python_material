{
  "nbformat": 4,
  "nbformat_minor": 0,
  "metadata": {
    "colab": {
      "provenance": []
    },
    "kernelspec": {
      "name": "python3",
      "display_name": "Python 3"
    },
    "language_info": {
      "name": "python"
    }
  },
  "cells": [
    {
      "cell_type": "code",
      "execution_count": null,
      "metadata": {
        "id": "rrN8uvaHoRkf"
      },
      "outputs": [],
      "source": []
    },
    {
      "cell_type": "markdown",
      "source": [
        "# what is python?\n",
        "\n",
        "\n",
        "*   sjflsjd fljsldfjsldfj lkjflks jlkj\n",
        "*   List item\n",
        "\n"
      ],
      "metadata": {
        "id": "hRlM6BsxoXos"
      }
    },
    {
      "cell_type": "code",
      "source": [],
      "metadata": {
        "id": "j3S4O6Iboe70"
      },
      "execution_count": null,
      "outputs": []
    },
    {
      "cell_type": "markdown",
      "source": [
        "# INT: numbers"
      ],
      "metadata": {
        "id": "Aba4SmxkogqI"
      }
    },
    {
      "cell_type": "code",
      "source": [
        "a = 8"
      ],
      "metadata": {
        "id": "EnBbU21Bojug"
      },
      "execution_count": 1,
      "outputs": []
    },
    {
      "cell_type": "code",
      "source": [
        "u = 67"
      ],
      "metadata": {
        "id": "PmpeIAwLolHT"
      },
      "execution_count": 2,
      "outputs": []
    },
    {
      "cell_type": "code",
      "source": [],
      "metadata": {
        "id": "sxpn8_sMom0E"
      },
      "execution_count": null,
      "outputs": []
    }
  ]
}